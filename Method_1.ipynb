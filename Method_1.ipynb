{
  "nbformat": 4,
  "nbformat_minor": 0,
  "metadata": {
    "colab": {
      "name": "Method_1.ipynb",
      "provenance": [],
      "collapsed_sections": [
        "C2vV_j4qRom4",
        "ho7O479bRom5",
        "EBUISp0cRom8"
      ],
      "toc_visible": true,
      "include_colab_link": true
    },
    "kernelspec": {
      "display_name": "Python 3.7.6 64-bit (conda)",
      "name": "python3"
    },
    "language_info": {
      "file_extension": ".py",
      "mimetype": "text/x-python",
      "name": "python",
      "version": "3.7.6-final"
    },
    "accelerator": "GPU"
  },
  "cells": [
    {
      "cell_type": "markdown",
      "metadata": {
        "id": "view-in-github",
        "colab_type": "text"
      },
      "source": [
        "<a href=\"https://colab.research.google.com/github/sunshineharry/4dof_Gripper_controler/blob/master/Method_1.ipynb\" target=\"_parent\"><img src=\"https://colab.research.google.com/assets/colab-badge.svg\" alt=\"Open In Colab\"/></a>"
      ]
    },
    {
      "cell_type": "markdown",
      "metadata": {
        "id": "BC68s-OjRomv"
      },
      "source": [
        "# 分割-识别法"
      ]
    },
    {
      "cell_type": "markdown",
      "metadata": {
        "id": "Ihvb-QPlRom2"
      },
      "source": [
        "采用如下方法，完成目标识别\n",
        "\n",
        "- 先利用深度图像，提取含有物体的区域\n",
        "\n",
        "- 将含有物体的区域进行目标分类 **仅仅做分类而不是识别**\n",
        "\n",
        "- 将分类完成的局部图像和深度掩码融合，得到类似maskrcnn的效果"
      ]
    },
    {
      "cell_type": "markdown",
      "metadata": {
        "id": "uvtCcL1nRom3"
      },
      "source": [
        "版本信息\n",
        "\n",
        "- python == 3.6\n",
        "\n",
        "- tensorflow == 1.15.2\n",
        "\n",
        "- keras == 2.3.1\n",
        "\n",
        "- opencv == 3.4.2.16 or 4.1.2.30\n",
        "\n",
        "- h5py == 2.10.0"
      ]
    },
    {
      "cell_type": "code",
      "metadata": {
        "id": "Gui8PxSJRom3"
      },
      "source": [
        "import cv2\n",
        "import numpy as np\n",
        "from matplotlib import pyplot as plt\n",
        "%matplotlib inline"
      ],
      "execution_count": null,
      "outputs": []
    },
    {
      "cell_type": "code",
      "metadata": {
        "id": "IFbPKVqxRom3"
      },
      "source": [
        "def show_image(window_name, image, time=0):\n",
        "    \"\"\"\n",
        "    绘图函数，按Esc健关闭绘图窗口\n",
        "    \"\"\"\n",
        "    # 解决uint16的问题\n",
        "    if image.dtype == np.uint16:\n",
        "        image = cv2.convertScaleAbs(image, alpha=(255.0/65535.0))    \n",
        "    try:\n",
        "        # 如果是彩色图像，转为 RGB 格式\n",
        "        if image.shape[2] == 3:\n",
        "            image = cv2.cvtColor(image,cv2.COLOR_BGR2RGB)\n",
        "    except:\n",
        "        image = cv2.cvtColor(image,cv2.COLOR_GRAY2RGB)\n",
        "    plt.imshow(image)\n",
        "    plt.show()"
      ],
      "execution_count": null,
      "outputs": []
    },
    {
      "cell_type": "markdown",
      "metadata": {
        "id": "C2vV_j4qRom4"
      },
      "source": [
        "## 深度图像处理"
      ]
    },
    {
      "cell_type": "markdown",
      "metadata": {
        "id": "X4z1wpd7Rom4"
      },
      "source": [
        "### 读取和裁剪图像"
      ]
    },
    {
      "cell_type": "code",
      "metadata": {
        "cellView": "form",
        "id": "Q-c94ENzRom4"
      },
      "source": [
        "#@title\n",
        "# 读取背景深度图像\n",
        "\n",
        "backgroud_depth = cv2.imread('dateset/NO_object/depth.png',cv2.IMREAD_UNCHANGED)\n",
        "backgroud_depth_colormap = cv2.applyColorMap(cv2.convertScaleAbs(backgroud_depth, alpha=0.2), cv2.COLORMAP_JET)\n",
        "show_image('',backgroud_depth_colormap)\n",
        "\n",
        "# 裁剪ROI，即传送带部分\n",
        "backgroud_depth = backgroud_depth[115:345,0:500]\n",
        "backgroud_depth_colormap = cv2.applyColorMap(cv2.convertScaleAbs(backgroud_depth, alpha=0.2), cv2.COLORMAP_JET)\n",
        "show_image('',backgroud_depth_colormap)"
      ],
      "execution_count": null,
      "outputs": []
    },
    {
      "cell_type": "code",
      "metadata": {
        "id": "9vNllgqwRom4"
      },
      "source": [
        "# 读取传送带上有物体的深度图像\n",
        "object_depth = cv2.imread('dateset/21_47_depth.png',cv2.IMREAD_UNCHANGED)\n",
        "object_depth_colormap = cv2.applyColorMap(cv2.convertScaleAbs(object_depth, alpha=0.2), cv2.COLORMAP_JET)\n",
        "show_image('',object_depth_colormap)\n",
        "\n",
        "# 裁剪ROI，即传送带部分\n",
        "object_depth = object_depth[115:345,0:500]\n",
        "object_depth_colormap = cv2.applyColorMap(cv2.convertScaleAbs(object_depth, alpha=0.2), cv2.COLORMAP_JET)\n",
        "show_image('',object_depth_colormap)"
      ],
      "execution_count": null,
      "outputs": []
    },
    {
      "cell_type": "code",
      "metadata": {
        "id": "Dsn77rkyRom4"
      },
      "source": [
        "# 将含有物体图像的ROI和原始深度的ROI相减\n",
        "object_mask_all = cv2.subtract(backgroud_depth,object_depth)\n",
        "# 提取18cm内的物体\n",
        "object_mask = cv2.convertScaleAbs(object_mask_all, alpha=1.42)\n",
        "object_mask_colormap = cv2.applyColorMap(cv2.convertScaleAbs(object_mask, alpha=0.1), cv2.COLORMAP_JET)\n",
        "show_image('',object_mask_colormap)"
      ],
      "execution_count": null,
      "outputs": []
    },
    {
      "cell_type": "code",
      "metadata": {
        "id": "7vqKz-5CRom5"
      },
      "source": [
        "# 二值化提取物体掩码\n",
        "ret, thresh = cv2.threshold(object_mask,0,255,cv2.THRESH_BINARY_INV+cv2.THRESH_OTSU)\n",
        "\n",
        "# 通过闭运算，滤去传送带上杂波\n",
        "kernel_1 = cv2.getStructuringElement(cv2.MORPH_RECT,(5,5))\n",
        "thresh = cv2.morphologyEx(thresh, cv2.MORPH_CLOSE, kernel_1,iterations=1)\n",
        "\n",
        "# 通过开运算，使轮廓区域扩张，进行容错\n",
        "thresh = cv2.morphologyEx(thresh, cv2.MORPH_OPEN, kernel_1,iterations=1)\n",
        "\n",
        "# 黑白反转\n",
        "thresh = cv2.bitwise_not(thresh) \n",
        "show_image('',thresh)"
      ],
      "execution_count": null,
      "outputs": []
    },
    {
      "cell_type": "code",
      "metadata": {
        "id": "EqGgJxoHRom5"
      },
      "source": [
        "# 读取含有物体的彩色图像\n",
        "object_RGB = cv2.imread('dateset/21_47_color.png')\n",
        "object_RGB = object_RGB[115:345,0:500]\n",
        "show_image('',object_RGB)"
      ],
      "execution_count": null,
      "outputs": []
    },
    {
      "cell_type": "markdown",
      "metadata": {
        "id": "ho7O479bRom5"
      },
      "source": [
        "### 查找轮廓"
      ]
    },
    {
      "cell_type": "code",
      "metadata": {
        "id": "hjjgKhQ_Rom5"
      },
      "source": [
        "# 查找原始轮廓\n",
        "_, contours, _ = cv2.findContours(thresh,cv2.RETR_EXTERNAL,cv2.CHAIN_APPROX_NONE)\n",
        "object_RGB_1 = object_RGB.copy()\n",
        "res = cv2.drawContours(object_RGB_1,contours,-1,(0,0,255),2)\n",
        "show_image('res',res)"
      ],
      "execution_count": null,
      "outputs": []
    },
    {
      "cell_type": "code",
      "metadata": {
        "id": "JHE4dw9yRom5"
      },
      "source": [
        "# 将原始轮廓转换成矩形轮廓\n",
        "\n",
        "rects = []      # 存储矩形框的一个列表\n",
        "\n",
        "object_RGB_2 = object_RGB.copy()\n",
        "\n",
        "for contour in contours:\n",
        "    rects.append(cv2.boundingRect(contour))\n",
        "\n",
        "\n",
        "    # testing\n",
        "    x,y,w,h = cv2.boundingRect(contour)\n",
        "    brcnt = np.array([[[x, y]], [[x+w, y]], [[x+w, y+h]], [[x, y+h]]])\n",
        "    cv2.drawContours(object_RGB_2, [brcnt], -1, (255,255,255), 2)\n",
        "\n",
        "show_image('object_RGB',object_RGB_2)"
      ],
      "execution_count": null,
      "outputs": []
    },
    {
      "cell_type": "code",
      "metadata": {
        "id": "8lrJVGIbRom6"
      },
      "source": [
        "# 裁剪图像\n",
        "for i,rect in enumerate(rects):\n",
        "    x,y,w,h = rect\n",
        "    img = object_RGB[y-5:y+h+5,x-5:x+w+5]\n",
        "    show_image('',img)"
      ],
      "execution_count": null,
      "outputs": []
    },
    {
      "cell_type": "markdown",
      "metadata": {
        "id": "v5PzkjlcRom6"
      },
      "source": [
        "## 模型训练"
      ]
    },
    {
      "cell_type": "markdown",
      "metadata": {
        "id": "FvpiN9J7Rom6"
      },
      "source": [
        "使用keras搭建模型"
      ]
    },
    {
      "cell_type": "code",
      "metadata": {
        "colab": {
          "base_uri": "https://localhost:8080/"
        },
        "id": "D5E0FgX9TYKO",
        "outputId": "4714a160-2350-4d39-ad2d-d3562f9654ca"
      },
      "source": [
        "!pip install keras==2.3.1\r\n",
        "%tensorflow_version 1.x\r\n",
        "! /opt/bin/nvidia-smi\r\n",
        "import keras\r\n",
        "import tensorflow as tf\r\n",
        "import numpy as np\r\n",
        "import cv2\r\n",
        "print(keras.__version__)\r\n",
        "print(tf.__version__)\r\n",
        "print(np.__version__)\r\n",
        "print(cv2.__version__)\r\n",
        "print(tf.test.is_gpu_available())"
      ],
      "execution_count": null,
      "outputs": [
        {
          "output_type": "stream",
          "text": [
            "Collecting keras==2.3.1\n",
            "\u001b[?25l  Downloading https://files.pythonhosted.org/packages/ad/fd/6bfe87920d7f4fd475acd28500a42482b6b84479832bdc0fe9e589a60ceb/Keras-2.3.1-py2.py3-none-any.whl (377kB)\n",
            "\r\u001b[K     |▉                               | 10kB 25.9MB/s eta 0:00:01\r\u001b[K     |█▊                              | 20kB 28.7MB/s eta 0:00:01\r\u001b[K     |██▋                             | 30kB 18.4MB/s eta 0:00:01\r\u001b[K     |███▌                            | 40kB 20.3MB/s eta 0:00:01\r\u001b[K     |████▍                           | 51kB 22.4MB/s eta 0:00:01\r\u001b[K     |█████▏                          | 61kB 16.2MB/s eta 0:00:01\r\u001b[K     |██████                          | 71kB 17.1MB/s eta 0:00:01\r\u001b[K     |███████                         | 81kB 17.6MB/s eta 0:00:01\r\u001b[K     |███████▉                        | 92kB 15.6MB/s eta 0:00:01\r\u001b[K     |████████▊                       | 102kB 16.9MB/s eta 0:00:01\r\u001b[K     |█████████▌                      | 112kB 16.9MB/s eta 0:00:01\r\u001b[K     |██████████▍                     | 122kB 16.9MB/s eta 0:00:01\r\u001b[K     |███████████▎                    | 133kB 16.9MB/s eta 0:00:01\r\u001b[K     |████████████▏                   | 143kB 16.9MB/s eta 0:00:01\r\u001b[K     |█████████████                   | 153kB 16.9MB/s eta 0:00:01\r\u001b[K     |█████████████▉                  | 163kB 16.9MB/s eta 0:00:01\r\u001b[K     |██████████████▊                 | 174kB 16.9MB/s eta 0:00:01\r\u001b[K     |███████████████▋                | 184kB 16.9MB/s eta 0:00:01\r\u001b[K     |████████████████▌               | 194kB 16.9MB/s eta 0:00:01\r\u001b[K     |█████████████████▍              | 204kB 16.9MB/s eta 0:00:01\r\u001b[K     |██████████████████▏             | 215kB 16.9MB/s eta 0:00:01\r\u001b[K     |███████████████████             | 225kB 16.9MB/s eta 0:00:01\r\u001b[K     |████████████████████            | 235kB 16.9MB/s eta 0:00:01\r\u001b[K     |████████████████████▉           | 245kB 16.9MB/s eta 0:00:01\r\u001b[K     |█████████████████████▊          | 256kB 16.9MB/s eta 0:00:01\r\u001b[K     |██████████████████████▌         | 266kB 16.9MB/s eta 0:00:01\r\u001b[K     |███████████████████████▍        | 276kB 16.9MB/s eta 0:00:01\r\u001b[K     |████████████████████████▎       | 286kB 16.9MB/s eta 0:00:01\r\u001b[K     |█████████████████████████▏      | 296kB 16.9MB/s eta 0:00:01\r\u001b[K     |██████████████████████████      | 307kB 16.9MB/s eta 0:00:01\r\u001b[K     |██████████████████████████▉     | 317kB 16.9MB/s eta 0:00:01\r\u001b[K     |███████████████████████████▊    | 327kB 16.9MB/s eta 0:00:01\r\u001b[K     |████████████████████████████▋   | 337kB 16.9MB/s eta 0:00:01\r\u001b[K     |█████████████████████████████▌  | 348kB 16.9MB/s eta 0:00:01\r\u001b[K     |██████████████████████████████▍ | 358kB 16.9MB/s eta 0:00:01\r\u001b[K     |███████████████████████████████▏| 368kB 16.9MB/s eta 0:00:01\r\u001b[K     |████████████████████████████████| 378kB 16.9MB/s \n",
            "\u001b[?25hRequirement already satisfied: h5py in /usr/local/lib/python3.6/dist-packages (from keras==2.3.1) (2.10.0)\n",
            "Requirement already satisfied: pyyaml in /usr/local/lib/python3.6/dist-packages (from keras==2.3.1) (3.13)\n",
            "Collecting keras-applications>=1.0.6\n",
            "\u001b[?25l  Downloading https://files.pythonhosted.org/packages/71/e3/19762fdfc62877ae9102edf6342d71b28fbfd9dea3d2f96a882ce099b03f/Keras_Applications-1.0.8-py3-none-any.whl (50kB)\n",
            "\r\u001b[K     |██████▌                         | 10kB 33.7MB/s eta 0:00:01\r\u001b[K     |█████████████                   | 20kB 11.5MB/s eta 0:00:01\r\u001b[K     |███████████████████▍            | 30kB 15.9MB/s eta 0:00:01\r\u001b[K     |█████████████████████████▉      | 40kB 16.3MB/s eta 0:00:01\r\u001b[K     |████████████████████████████████| 51kB 6.8MB/s \n",
            "\u001b[?25hRequirement already satisfied: numpy>=1.9.1 in /usr/local/lib/python3.6/dist-packages (from keras==2.3.1) (1.19.5)\n",
            "Requirement already satisfied: keras-preprocessing>=1.0.5 in /usr/local/lib/python3.6/dist-packages (from keras==2.3.1) (1.1.2)\n",
            "Requirement already satisfied: six>=1.9.0 in /usr/local/lib/python3.6/dist-packages (from keras==2.3.1) (1.15.0)\n",
            "Requirement already satisfied: scipy>=0.14 in /usr/local/lib/python3.6/dist-packages (from keras==2.3.1) (1.4.1)\n",
            "Installing collected packages: keras-applications, keras\n",
            "  Found existing installation: Keras 2.4.3\n",
            "    Uninstalling Keras-2.4.3:\n",
            "      Successfully uninstalled Keras-2.4.3\n",
            "Successfully installed keras-2.3.1 keras-applications-1.0.8\n",
            "TensorFlow 1.x selected.\n",
            "Mon Jan 25 06:24:22 2021       \n",
            "+-----------------------------------------------------------------------------+\n",
            "| NVIDIA-SMI 418.67       Driver Version: 418.67       CUDA Version: 10.1     |\n",
            "|-------------------------------+----------------------+----------------------+\n",
            "| GPU  Name        Persistence-M| Bus-Id        Disp.A | Volatile Uncorr. ECC |\n",
            "| Fan  Temp  Perf  Pwr:Usage/Cap|         Memory-Usage | GPU-Util  Compute M. |\n",
            "|===============================+======================+======================|\n",
            "|   0  Tesla T4            Off  | 00000000:00:04.0 Off |                    0 |\n",
            "| N/A   64C    P8    11W /  70W |      0MiB / 15079MiB |      0%      Default |\n",
            "+-------------------------------+----------------------+----------------------+\n",
            "                                                                               \n",
            "+-----------------------------------------------------------------------------+\n",
            "| Processes:                                                       GPU Memory |\n",
            "|  GPU       PID   Type   Process name                             Usage      |\n",
            "|=============================================================================|\n",
            "|  No running processes found                                                 |\n",
            "+-----------------------------------------------------------------------------+\n"
          ],
          "name": "stdout"
        },
        {
          "output_type": "stream",
          "text": [
            "Using TensorFlow backend.\n"
          ],
          "name": "stderr"
        },
        {
          "output_type": "stream",
          "text": [
            "2.3.1\n",
            "1.15.2\n",
            "1.19.5\n",
            "4.1.2\n",
            "True\n"
          ],
          "name": "stdout"
        }
      ]
    },
    {
      "cell_type": "code",
      "metadata": {
        "id": "_5gu61GE7QtH"
      },
      "source": [
        "!pip list"
      ],
      "execution_count": null,
      "outputs": []
    },
    {
      "cell_type": "code",
      "metadata": {
        "id": "cHRiBxIURom6"
      },
      "source": [
        "from keras.applications.mobilenet_v2 import MobileNetV2\n",
        "from keras.models import Sequential\n",
        "from keras.layers import Conv2D,MaxPool2D,Activation,Dropout,Flatten,Dense\n",
        "from keras.optimizers import SGD\n",
        "from keras.preprocessing.image import ImageDataGenerator,img_to_array,load_img\n",
        "from keras.callbacks import TensorBoard\n",
        "import numpy as np"
      ],
      "execution_count": null,
      "outputs": []
    },
    {
      "cell_type": "code",
      "metadata": {
        "colab": {
          "base_uri": "https://localhost:8080/"
        },
        "id": "9WnftjS6S6BA",
        "outputId": "09c5722c-ab4c-4123-f644-ee2e37b6e723"
      },
      "source": [
        "from google.colab import drive\r\n",
        "drive.mount('/content/drive')"
      ],
      "execution_count": null,
      "outputs": [
        {
          "output_type": "stream",
          "text": [
            "Mounted at /content/drive\n"
          ],
          "name": "stdout"
        }
      ]
    },
    {
      "cell_type": "code",
      "metadata": {
        "id": "Nm8L0WD-Ve9d"
      },
      "source": [
        "import os"
      ],
      "execution_count": null,
      "outputs": []
    },
    {
      "cell_type": "code",
      "metadata": {
        "id": "bDUxnl40Vlgh"
      },
      "source": [
        "def findAllFile(base):\r\n",
        "    for _, _, fs in os.walk(base):\r\n",
        "        return fs"
      ],
      "execution_count": null,
      "outputs": []
    },
    {
      "cell_type": "code",
      "metadata": {
        "id": "3ODP9IdBVmpz",
        "colab": {
          "base_uri": "https://localhost:8080/"
        },
        "outputId": "32bd7cbe-e07f-4fb5-9b1e-d7368364786b"
      },
      "source": [
        "base = '/content/drive/My Drive/Colab Notebooks'\r\n",
        "for filename in findAllFile(base):\r\n",
        "    print(filename)"
      ],
      "execution_count": null,
      "outputs": [
        {
          "output_type": "stream",
          "text": [
            "test.h5\n",
            "test.pb\n",
            "Method_1.ipynb\n"
          ],
          "name": "stdout"
        }
      ]
    },
    {
      "cell_type": "markdown",
      "metadata": {
        "id": "1xPlp4fERom6"
      },
      "source": [
        "### 建立MobileNet模型"
      ]
    },
    {
      "cell_type": "code",
      "metadata": {
        "id": "7r_W_yuPRom6"
      },
      "source": [
        "# 导入MobileNet网络\n",
        "mobilenet_model = MobileNetV2(weights='imagenet',include_top=False, input_shape=(128,128,3))"
      ],
      "execution_count": null,
      "outputs": []
    },
    {
      "cell_type": "code",
      "metadata": {
        "id": "AaTXd0IURom6"
      },
      "source": [
        "# 搭建全连接层\n",
        "top_model = Sequential()\n",
        "top_model.add(Flatten(input_shape=mobilenet_model.output_shape[1:]))\n",
        "top_model.add(Dense(256,activation='relu'))\n",
        "top_model.add(Dropout(0.2))\n",
        "# !改类别数\n",
        "top_model.add(Dense(6,activation='softmax'))"
      ],
      "execution_count": null,
      "outputs": []
    },
    {
      "cell_type": "code",
      "metadata": {
        "id": "hYlZLMAkRom7"
      },
      "source": [
        "# 拼接模型\n",
        "model = Sequential()\n",
        "model.add(mobilenet_model)\n",
        "model.add(top_model)\n",
        "model.summary()"
      ],
      "execution_count": null,
      "outputs": []
    },
    {
      "cell_type": "markdown",
      "metadata": {
        "id": "nrDFyqz1Rom7"
      },
      "source": [
        "### 导入数据"
      ]
    },
    {
      "cell_type": "code",
      "metadata": {
        "id": "O2t4pNpkRom7"
      },
      "source": [
        "# 定义数据增强\n",
        "train_datagen = ImageDataGenerator(\n",
        "    rotation_range = 180,       # 随机旋转度数\n",
        "    width_shift_range = 0.05,   # 随机水平平移\n",
        "    height_shift_range = 0.05,  # 随机竖直平移\n",
        "    shear_range = 1,            # 随机错切变换\n",
        "    zoom_range = 0.03,          # 随机放大\n",
        "    fill_mode = 'nearest',      # 填充方式\n",
        "    rescale = 1./255,           # 数据归一化\n",
        ") \n",
        "test_datagen = ImageDataGenerator(\n",
        "    rescale = 1./255,         # 数据归一化\n",
        ") "
      ],
      "execution_count": null,
      "outputs": []
    },
    {
      "cell_type": "code",
      "metadata": {
        "id": "JfAkeRhVRom7"
      },
      "source": [
        "batch_size = 128\n",
        "\n",
        "# 生成训练数据\n",
        "train_generator = train_datagen.flow_from_directory(\n",
        "    '/content/drive/My Drive/Colab Notebooks/single_img_dataset/train',\n",
        "    target_size=(128,128),\n",
        "    batch_size=batch_size,\n",
        "    class_mode=\"categorical\",\n",
        "    )\n",
        "\n",
        "# 测试数据\n",
        "test_generator = test_datagen.flow_from_directory(\n",
        "    '/content/drive/My Drive/Colab Notebooks/single_img_dataset/test',\n",
        "    target_size=(128,128),\n",
        "    batch_size=batch_size,\n",
        "    class_mode=\"categorical\"\n",
        "    )\n",
        "\n",
        "train_generator.class_indices"
      ],
      "execution_count": null,
      "outputs": []
    },
    {
      "cell_type": "markdown",
      "metadata": {
        "id": "mhoUcBerRom7"
      },
      "source": [
        "### 模型训练"
      ]
    },
    {
      "cell_type": "code",
      "metadata": {
        "id": "Nip8Ol3ORom7"
      },
      "source": [
        "# 定义优化器，代价函数，训练过程中计算准确率\n",
        "model.compile(optimizer=SGD(lr=1e-6,momentum=0.95),loss='categorical_crossentropy',metrics=['accuracy'])"
      ],
      "execution_count": null,
      "outputs": []
    },
    {
      "cell_type": "code",
      "metadata": {
        "id": "4yaneS5pRom7"
      },
      "source": [
        "# 定义tensorboard回调\n",
        "tbCallBack = TensorBoard(log_dir='./logs',  # log 目录\n",
        "                 histogram_freq=0,  # 按照何等频率（epoch）来计算直方图，0为不计算\n",
        "                 batch_size=16,     # 用多大量的数据计算直方图\n",
        "                 write_graph=True,  # 是否存储网络结构图\n",
        "                 write_grads=True,  # 是否可视化梯度直方图\n",
        "                 write_images=True, # 是否可视化参数\n",
        "                 embeddings_freq=0, \n",
        "                 embeddings_layer_names=None, \n",
        "                 embeddings_metadata=None\n",
        "                 )"
      ],
      "execution_count": null,
      "outputs": []
    },
    {
      "cell_type": "code",
      "metadata": {
        "id": "HuDe6Fz7Rom8"
      },
      "source": [
        "# 模型训练\n",
        "# model = load_model('test.h5')\n",
        "model.fit_generator(train_generator,\n",
        "                    steps_per_epoch=len(train_generator),\n",
        "                    epochs=5,\n",
        "                    validation_data=test_generator,\n",
        "                    validation_steps=len(test_generator),\n",
        "                    # callbacks=[tbCallBack]\n",
        "                    )\n",
        "\n",
        "model.save('/content/drive/My Drive/Colab Notebooks/test.h5')"
      ],
      "execution_count": null,
      "outputs": []
    },
    {
      "cell_type": "markdown",
      "metadata": {
        "id": "_UOnUF6B8Nuk"
      },
      "source": [
        "### h5文件转pb文件"
      ]
    },
    {
      "cell_type": "code",
      "metadata": {
        "id": "3WIjA8Ox8yCQ"
      },
      "source": [
        "import keras\r\n",
        "import tensorflow as tf\r\n",
        "import os"
      ],
      "execution_count": null,
      "outputs": []
    },
    {
      "cell_type": "code",
      "metadata": {
        "id": "egxh6YVF812L"
      },
      "source": [
        "def freeze_session(session, keep_var_names=None, output_names=None, clear_devices=True):\r\n",
        "    \"\"\"\r\n",
        "    Freezes the state of a session into a pruned computation graph.\r\n",
        "    Creates a new computation graph where variable nodes are replaced by\r\n",
        "    constants taking their current value in the session. The new graph will be\r\n",
        "    pruned so subgraphs that are not necessary to compute the requested\r\n",
        "    outputs are removed.\r\n",
        "    @param session The TensorFlow session to be frozen.\r\n",
        "    @param keep_var_names A list of variable names that should not be frozen,\r\n",
        "                          or None to freeze all the variables in the graph.\r\n",
        "    @param output_names Names of the relevant graph outputs.\r\n",
        "    @param clear_devices Remove the device directives from the graph for better portability.\r\n",
        "    @return The frozen graph definition.\r\n",
        "    \"\"\"\r\n",
        "    graph = session.graph\r\n",
        "    with graph.as_default():\r\n",
        "        freeze_var_names = list(set(v.op.name for v in tf.global_variables()).difference(keep_var_names or []))\r\n",
        "        output_names = output_names or []\r\n",
        "        output_names += [v.op.name for v in tf.global_variables()]\r\n",
        "        input_graph_def = graph.as_graph_def()\r\n",
        "        if clear_devices:\r\n",
        "            for node in input_graph_def.node:\r\n",
        "                node.device = ''\r\n",
        "        frozen_graph = tf.graph_util.convert_variables_to_constants(\r\n",
        "            session, input_graph_def, output_names, freeze_var_names)\r\n",
        "        return frozen_graph"
      ],
      "execution_count": null,
      "outputs": []
    },
    {
      "cell_type": "code",
      "metadata": {
        "colab": {
          "base_uri": "https://localhost:8080/"
        },
        "id": "eA6OPHSU87Wq",
        "outputId": "048e5b4d-47e2-482a-e638-ca40d3c02360"
      },
      "source": [
        "input_path = '/content/drive/My Drive/Colab Notebooks/'\r\n",
        "#keras训练保存的h5文件\r\n",
        "input_file = 'test.h5'\r\n",
        "weight_file_path = os.path.join(input_path, input_file)\r\n",
        "output_graph_name = weight_file_path[:-3] + '.pb'\r\n",
        "\r\n",
        "#  加载模型\r\n",
        "keras.backend.set_learning_phase(0)\r\n",
        "h5_model = keras.models.load_model(weight_file_path)\r\n",
        "frozen_graph = freeze_session(keras.backend.get_session(), output_names=[out.op.name for out in h5_model.outputs])\r\n",
        "tf.train.write_graph(frozen_graph, input_path, output_graph_name, as_text=False)\r\n",
        "print('Finished')\r\n"
      ],
      "execution_count": null,
      "outputs": [
        {
          "output_type": "stream",
          "text": [
            "WARNING:tensorflow:From /tensorflow-1.15.2/python3.6/tensorflow_core/python/ops/resource_variable_ops.py:1630: calling BaseResourceVariable.__init__ (from tensorflow.python.ops.resource_variable_ops) with constraint is deprecated and will be removed in a future version.\n",
            "Instructions for updating:\n",
            "If using Keras pass *_constraint arguments to layers.\n",
            "WARNING:tensorflow:From /tensorflow-1.15.2/python3.6/keras/backend/tensorflow_backend.py:422: The name tf.global_variables is deprecated. Please use tf.compat.v1.global_variables instead.\n",
            "\n",
            "WARNING:tensorflow:From <ipython-input-6-07df6e1e0d16>:25: convert_variables_to_constants (from tensorflow.python.framework.graph_util_impl) is deprecated and will be removed in a future version.\n",
            "Instructions for updating:\n",
            "Use `tf.compat.v1.graph_util.convert_variables_to_constants`\n",
            "WARNING:tensorflow:From /tensorflow-1.15.2/python3.6/tensorflow_core/python/framework/graph_util_impl.py:277: extract_sub_graph (from tensorflow.python.framework.graph_util_impl) is deprecated and will be removed in a future version.\n",
            "Instructions for updating:\n",
            "Use `tf.compat.v1.graph_util.extract_sub_graph`\n",
            "INFO:tensorflow:Froze 430 variables.\n",
            "INFO:tensorflow:Converted 430 variables to const ops.\n",
            "Finished\n"
          ],
          "name": "stdout"
        }
      ]
    },
    {
      "cell_type": "code",
      "metadata": {
        "colab": {
          "base_uri": "https://localhost:8080/"
        },
        "id": "bdzkSDdF-tAG",
        "outputId": "9b461061-e64c-4e1a-c528-5500146aef62"
      },
      "source": [
        "# !pip install opencv-python==3.4.2.16\r\n",
        "# !pip install opencv-contrib-pyton==3.4.2.16\r\n",
        "import cv2\r\n",
        "print(cv2.__version__)\r\n",
        "net = cv2.dnn.readNetFromTensorflow('/content/drive/My Drive/Colab Notebooks/test.pb')"
      ],
      "execution_count": null,
      "outputs": [
        {
          "output_type": "stream",
          "text": [
            "4.1.2\n"
          ],
          "name": "stdout"
        }
      ]
    },
    {
      "cell_type": "code",
      "metadata": {
        "colab": {
          "base_uri": "https://localhost:8080/"
        },
        "id": "jdt3O1O8PbC9",
        "outputId": "79ce4036-6c19-4983-84c9-6e1bb5a2af45"
      },
      "source": [
        "!pip list"
      ],
      "execution_count": null,
      "outputs": [
        {
          "output_type": "stream",
          "text": [
            "Package                       Version        \n",
            "----------------------------- ---------------\n",
            "absl-py                       0.10.0         \n",
            "alabaster                     0.7.12         \n",
            "albumentations                0.1.12         \n",
            "altair                        4.1.0          \n",
            "argon2-cffi                   20.1.0         \n",
            "asgiref                       3.3.1          \n",
            "astor                         0.8.1          \n",
            "astropy                       4.1            \n",
            "astunparse                    1.6.3          \n",
            "async-generator               1.10           \n",
            "atari-py                      0.2.6          \n",
            "atomicwrites                  1.4.0          \n",
            "attrs                         20.3.0         \n",
            "audioread                     2.1.9          \n",
            "autograd                      1.3            \n",
            "Babel                         2.9.0          \n",
            "backcall                      0.2.0          \n",
            "backports.tempfile            1.0            \n",
            "backports.weakref             1.0.post1      \n",
            "beautifulsoup4                4.6.3          \n",
            "bleach                        3.2.1          \n",
            "blis                          0.4.1          \n",
            "bokeh                         2.1.1          \n",
            "Bottleneck                    1.3.2          \n",
            "branca                        0.4.2          \n",
            "bs4                           0.0.1          \n",
            "bz2file                       0.98           \n",
            "CacheControl                  0.12.6         \n",
            "cachetools                    4.2.0          \n",
            "catalogue                     1.0.0          \n",
            "certifi                       2020.12.5      \n",
            "cffi                          1.14.4         \n",
            "chainer                       7.4.0          \n",
            "chardet                       3.0.4          \n",
            "click                         7.1.2          \n",
            "cloudpickle                   1.3.0          \n",
            "cmake                         3.12.0         \n",
            "cmdstanpy                     0.9.5          \n",
            "colorlover                    0.3.0          \n",
            "community                     1.0.0b1        \n",
            "contextlib2                   0.5.5          \n",
            "convertdate                   2.2.0          \n",
            "coverage                      3.7.1          \n",
            "coveralls                     0.5            \n",
            "crcmod                        1.7            \n",
            "cufflinks                     0.17.3         \n",
            "cupy-cuda101                  7.4.0          \n",
            "cvxopt                        1.2.5          \n",
            "cvxpy                         1.0.31         \n",
            "cycler                        0.10.0         \n",
            "cymem                         2.0.5          \n",
            "Cython                        0.29.21        \n",
            "daft                          0.0.4          \n",
            "dask                          2.12.0         \n",
            "dataclasses                   0.8            \n",
            "datascience                   0.10.6         \n",
            "debugpy                       1.0.0          \n",
            "decorator                     4.4.2          \n",
            "defusedxml                    0.6.0          \n",
            "descartes                     1.1.0          \n",
            "dill                          0.3.3          \n",
            "distributed                   1.25.3         \n",
            "Django                        3.1.5          \n",
            "dlib                          19.18.0        \n",
            "dm-sonnet                     1.35           \n",
            "dm-tree                       0.1.5          \n",
            "docopt                        0.6.2          \n",
            "docutils                      0.16           \n",
            "dopamine-rl                   1.0.5          \n",
            "earthengine-api               0.1.238        \n",
            "easydict                      1.9            \n",
            "ecos                          2.0.7.post1    \n",
            "editdistance                  0.5.3          \n",
            "en-core-web-sm                2.2.5          \n",
            "entrypoints                   0.3            \n",
            "ephem                         3.7.7.1        \n",
            "et-xmlfile                    1.0.1          \n",
            "fa2                           0.3.5          \n",
            "fancyimpute                   0.4.3          \n",
            "fastai                        1.0.61         \n",
            "fastdtw                       0.3.4          \n",
            "fastprogress                  1.0.0          \n",
            "fastrlock                     0.5            \n",
            "fbprophet                     0.7.1          \n",
            "feather-format                0.4.1          \n",
            "filelock                      3.0.12         \n",
            "firebase-admin                4.4.0          \n",
            "fix-yahoo-finance             0.0.22         \n",
            "Flask                         1.1.2          \n",
            "flatbuffers                   1.12           \n",
            "folium                        0.8.3          \n",
            "future                        0.16.0         \n",
            "gast                          0.3.3          \n",
            "GDAL                          2.2.2          \n",
            "gdown                         3.6.4          \n",
            "gensim                        3.6.0          \n",
            "geographiclib                 1.50           \n",
            "geopy                         1.17.0         \n",
            "gevent                        1.4.0          \n",
            "gin-config                    0.4.0          \n",
            "glob2                         0.7            \n",
            "google                        2.0.3          \n",
            "google-api-core               1.16.0         \n",
            "google-api-python-client      1.7.12         \n",
            "google-auth                   1.17.2         \n",
            "google-auth-httplib2          0.0.4          \n",
            "google-auth-oauthlib          0.4.2          \n",
            "google-cloud-bigquery         1.21.0         \n",
            "google-cloud-bigquery-storage 1.1.0          \n",
            "google-cloud-core             1.0.3          \n",
            "google-cloud-datastore        1.8.0          \n",
            "google-cloud-firestore        1.7.0          \n",
            "google-cloud-language         1.2.0          \n",
            "google-cloud-storage          1.18.1         \n",
            "google-cloud-translate        1.5.0          \n",
            "google-colab                  1.0.0          \n",
            "google-pasta                  0.2.0          \n",
            "google-resumable-media        0.4.1          \n",
            "googleapis-common-protos      1.52.0         \n",
            "googledrivedownloader         0.4            \n",
            "graph-nets                    1.0.5          \n",
            "graphviz                      0.10.1         \n",
            "greenlet                      0.4.15         \n",
            "grpcio                        1.32.0         \n",
            "gspread                       3.0.1          \n",
            "gspread-dataframe             3.0.8          \n",
            "gunicorn                      20.0.4         \n",
            "gym                           0.17.3         \n",
            "h5py                          2.10.0         \n",
            "HeapDict                      1.0.1          \n",
            "holidays                      0.10.4         \n",
            "holoviews                     1.13.5         \n",
            "html5lib                      1.0.1          \n",
            "httpimport                    0.5.18         \n",
            "httplib2                      0.17.4         \n",
            "httplib2shim                  0.0.3          \n",
            "humanize                      0.5.1          \n",
            "hyperopt                      0.1.2          \n",
            "ideep4py                      2.0.0.post3    \n",
            "idna                          2.10           \n",
            "image                         1.5.33         \n",
            "imageio                       2.4.1          \n",
            "imagesize                     1.2.0          \n",
            "imbalanced-learn              0.4.3          \n",
            "imblearn                      0.0            \n",
            "imgaug                        0.2.9          \n",
            "importlib-metadata            3.3.0          \n",
            "importlib-resources           4.1.1          \n",
            "imutils                       0.5.3          \n",
            "inflect                       2.1.0          \n",
            "iniconfig                     1.1.1          \n",
            "intel-openmp                  2021.1.2       \n",
            "intervaltree                  2.1.0          \n",
            "ipykernel                     4.10.1         \n",
            "ipython                       5.5.0          \n",
            "ipython-genutils              0.2.0          \n",
            "ipython-sql                   0.3.9          \n",
            "ipywidgets                    7.6.3          \n",
            "itsdangerous                  1.1.0          \n",
            "jax                           0.2.7          \n",
            "jaxlib                        0.1.57+cuda101 \n",
            "jdcal                         1.4.1          \n",
            "jedi                          0.18.0         \n",
            "jieba                         0.42.1         \n",
            "Jinja2                        2.11.2         \n",
            "joblib                        1.0.0          \n",
            "jpeg4py                       0.1.4          \n",
            "jsonschema                    2.6.0          \n",
            "jupyter                       1.0.0          \n",
            "jupyter-client                5.3.5          \n",
            "jupyter-console               5.2.0          \n",
            "jupyter-core                  4.7.0          \n",
            "jupyterlab-pygments           0.1.2          \n",
            "jupyterlab-widgets            1.0.0          \n",
            "kaggle                        1.5.10         \n",
            "kapre                         0.1.3.1        \n",
            "Keras                         2.3.1          \n",
            "Keras-Applications            1.0.8          \n",
            "Keras-Preprocessing           1.1.2          \n",
            "keras-vis                     0.4.1          \n",
            "kfac                          0.2.0          \n",
            "kiwisolver                    1.3.1          \n",
            "knnimpute                     0.1.0          \n",
            "korean-lunar-calendar         0.2.1          \n",
            "librosa                       0.6.3          \n",
            "lightgbm                      2.2.3          \n",
            "llvmlite                      0.31.0         \n",
            "lmdb                          0.99           \n",
            "lucid                         0.3.8          \n",
            "LunarCalendar                 0.0.9          \n",
            "lxml                          4.2.6          \n",
            "magenta                       0.3.19         \n",
            "Markdown                      3.3.3          \n",
            "MarkupSafe                    1.1.1          \n",
            "matplotlib                    3.2.2          \n",
            "matplotlib-venn               0.11.6         \n",
            "mesh-tensorflow               0.1.12         \n",
            "mido                          1.2.6          \n",
            "mir-eval                      0.5            \n",
            "missingno                     0.4.2          \n",
            "mistune                       0.8.4          \n",
            "mizani                        0.6.0          \n",
            "mkl                           2019.0         \n",
            "mlxtend                       0.14.0         \n",
            "more-itertools                8.6.0          \n",
            "moviepy                       0.2.3.5        \n",
            "mpi4py                        3.0.3          \n",
            "mpmath                        1.1.0          \n",
            "msgpack                       1.0.2          \n",
            "multiprocess                  0.70.11.1      \n",
            "multitasking                  0.0.9          \n",
            "murmurhash                    1.0.5          \n",
            "music21                       5.5.0          \n",
            "natsort                       5.5.0          \n",
            "nbclient                      0.5.1          \n",
            "nbconvert                     5.6.1          \n",
            "nbformat                      5.0.8          \n",
            "nest-asyncio                  1.4.3          \n",
            "networkx                      2.5            \n",
            "nibabel                       3.0.2          \n",
            "nltk                          3.2.5          \n",
            "notebook                      5.3.1          \n",
            "np-utils                      0.5.12.1       \n",
            "numba                         0.48.0         \n",
            "numexpr                       2.7.2          \n",
            "numpy                         1.19.5         \n",
            "nvidia-ml-py3                 7.352.0        \n",
            "oauth2client                  4.1.3          \n",
            "oauthlib                      3.1.0          \n",
            "okgrade                       0.4.3          \n",
            "opencv-contrib-python         4.1.2.30       \n",
            "opencv-python                 4.1.2.30       \n",
            "openpyxl                      2.5.9          \n",
            "opt-einsum                    3.3.0          \n",
            "osqp                          0.6.2          \n",
            "packaging                     20.8           \n",
            "palettable                    3.3.0          \n",
            "pandas                        1.1.5          \n",
            "pandas-datareader             0.9.0          \n",
            "pandas-gbq                    0.13.3         \n",
            "pandas-profiling              1.4.1          \n",
            "pandocfilters                 1.4.3          \n",
            "panel                         0.9.7          \n",
            "param                         1.10.1         \n",
            "parso                         0.8.1          \n",
            "pathlib                       1.0.1          \n",
            "patsy                         0.5.1          \n",
            "pexpect                       4.8.0          \n",
            "pickleshare                   0.7.5          \n",
            "Pillow                        7.0.0          \n",
            "pip                           19.3.1         \n",
            "pip-tools                     4.5.1          \n",
            "plac                          1.1.3          \n",
            "plotly                        4.4.1          \n",
            "plotnine                      0.6.0          \n",
            "pluggy                        0.7.1          \n",
            "portpicker                    1.3.1          \n",
            "prefetch-generator            1.0.1          \n",
            "preshed                       3.0.5          \n",
            "pretty-midi                   0.2.8          \n",
            "prettytable                   2.0.0          \n",
            "progressbar2                  3.38.0         \n",
            "prometheus-client             0.9.0          \n",
            "promise                       2.3            \n",
            "prompt-toolkit                1.0.18         \n",
            "protobuf                      3.12.4         \n",
            "psutil                        5.4.8          \n",
            "psycopg2                      2.7.6.1        \n",
            "ptyprocess                    0.7.0          \n",
            "py                            1.10.0         \n",
            "pyarrow                       0.14.1         \n",
            "pyasn1                        0.4.8          \n",
            "pyasn1-modules                0.2.8          \n",
            "pycocotools                   2.0.2          \n",
            "pycparser                     2.20           \n",
            "pyct                          0.4.8          \n",
            "pydata-google-auth            1.1.0          \n",
            "pydot                         1.3.0          \n",
            "pydot-ng                      2.0.0          \n",
            "pydotplus                     2.0.2          \n",
            "PyDrive                       1.3.1          \n",
            "pyemd                         0.5.1          \n",
            "pyglet                        1.5.0          \n",
            "Pygments                      2.6.1          \n",
            "pygobject                     3.26.1         \n",
            "pymc3                         3.7            \n",
            "PyMeeus                       0.3.7          \n",
            "pymongo                       3.11.2         \n",
            "pymystem3                     0.2.0          \n",
            "PyOpenGL                      3.1.5          \n",
            "pyparsing                     2.4.7          \n",
            "pypng                         0.0.20         \n",
            "pyrsistent                    0.17.3         \n",
            "pysndfile                     1.3.8          \n",
            "PySocks                       1.7.1          \n",
            "pystan                        2.19.1.1       \n",
            "pytest                        3.6.4          \n",
            "python-apt                    1.6.5+ubuntu0.5\n",
            "python-chess                  0.23.11        \n",
            "python-dateutil               2.8.1          \n",
            "python-louvain                0.15           \n",
            "python-rtmidi                 1.4.0          \n",
            "python-slugify                4.0.1          \n",
            "python-utils                  2.4.0          \n",
            "pytz                          2018.9         \n",
            "pyviz-comms                   2.0.1          \n",
            "PyWavelets                    1.1.1          \n",
            "PyYAML                        3.13           \n",
            "pyzmq                         20.0.0         \n",
            "qdldl                         0.1.5.post0    \n",
            "qtconsole                     5.0.1          \n",
            "QtPy                          1.9.0          \n",
            "regex                         2019.12.20     \n",
            "requests                      2.23.0         \n",
            "requests-oauthlib             1.3.0          \n",
            "resampy                       0.2.2          \n",
            "retrying                      1.3.3          \n",
            "rpy2                          3.2.7          \n",
            "rsa                           4.6            \n",
            "scikit-image                  0.16.2         \n",
            "scikit-learn                  0.22.2.post1   \n",
            "scipy                         1.4.1          \n",
            "screen-resolution-extra       0.0.0          \n",
            "scs                           2.1.2          \n",
            "seaborn                       0.11.1         \n",
            "semantic-version              2.8.4          \n",
            "Send2Trash                    1.5.0          \n",
            "setuptools                    51.3.3         \n",
            "setuptools-git                1.2            \n",
            "Shapely                       1.7.1          \n",
            "simplegeneric                 0.8.1          \n",
            "six                           1.15.0         \n",
            "sklearn                       0.0            \n",
            "sklearn-pandas                1.8.0          \n",
            "smart-open                    4.1.0          \n",
            "snowballstemmer               2.0.0          \n",
            "sortedcontainers              2.3.0          \n",
            "spacy                         2.2.4          \n",
            "Sphinx                        1.8.5          \n",
            "sphinxcontrib-serializinghtml 1.1.4          \n",
            "sphinxcontrib-websupport      1.2.4          \n",
            "SQLAlchemy                    1.3.22         \n",
            "sqlparse                      0.4.1          \n",
            "srsly                         1.0.5          \n",
            "stable-baselines              2.2.1          \n",
            "statsmodels                   0.10.2         \n",
            "sympy                         1.1.1          \n",
            "tables                        3.4.4          \n",
            "tabulate                      0.8.7          \n",
            "tblib                         1.7.0          \n",
            "tensor2tensor                 1.14.1         \n",
            "tensorboard                   1.15.0         \n",
            "tensorboard-plugin-wit        1.7.0          \n",
            "tensorboardcolab              0.0.22         \n",
            "tensorflow                    1.15.2         \n",
            "tensorflow-addons             0.8.3          \n",
            "tensorflow-datasets           4.0.1          \n",
            "tensorflow-estimator          1.15.1         \n",
            "tensorflow-gan                2.0.0          \n",
            "tensorflow-gcs-config         2.4.0          \n",
            "tensorflow-hub                0.11.0         \n",
            "tensorflow-metadata           0.26.0         \n",
            "tensorflow-privacy            0.2.2          \n",
            "tensorflow-probability        0.7.0          \n",
            "termcolor                     1.1.0          \n",
            "terminado                     0.9.2          \n",
            "testpath                      0.4.4          \n",
            "text-unidecode                1.3            \n",
            "textblob                      0.15.3         \n",
            "textgenrnn                    1.4.1          \n",
            "tflearn                       0.3.2          \n",
            "Theano                        1.0.5          \n",
            "thinc                         7.4.0          \n",
            "tifffile                      2020.9.3       \n",
            "toml                          0.10.2         \n",
            "toolz                         0.11.1         \n",
            "torch                         1.7.0+cu101    \n",
            "torchsummary                  1.5.1          \n",
            "torchtext                     0.3.1          \n",
            "torchvision                   0.8.1+cu101    \n",
            "tornado                       5.1.1          \n",
            "tqdm                          4.41.1         \n",
            "traitlets                     4.3.3          \n",
            "tweepy                        3.6.0          \n",
            "typeguard                     2.7.1          \n",
            "typing-extensions             3.7.4.3        \n",
            "tzlocal                       1.5.1          \n",
            "umap-learn                    0.4.6          \n",
            "uritemplate                   3.0.1          \n",
            "urllib3                       1.24.3         \n",
            "vega-datasets                 0.9.0          \n",
            "wasabi                        0.8.0          \n",
            "wcwidth                       0.2.5          \n",
            "webencodings                  0.5.1          \n",
            "Werkzeug                      1.0.1          \n",
            "wheel                         0.36.2         \n",
            "widgetsnbextension            3.5.1          \n",
            "wordcloud                     1.5.0          \n",
            "wrapt                         1.12.1         \n",
            "xarray                        0.15.1         \n",
            "xgboost                       0.90           \n",
            "xkit                          0.0.0          \n",
            "xlrd                          1.1.0          \n",
            "xlwt                          1.3.0          \n",
            "yellowbrick                   0.9.1          \n",
            "zict                          2.0.0          \n",
            "zipp                          3.4.0          \n",
            "zmq                           0.0.0          \n"
          ],
          "name": "stdout"
        }
      ]
    },
    {
      "cell_type": "markdown",
      "metadata": {
        "id": "EBUISp0cRom8"
      },
      "source": [
        "## 模型使用"
      ]
    },
    {
      "cell_type": "code",
      "metadata": {
        "id": "LuU9LbdFRom8"
      },
      "source": [
        "from keras.models import load_model\n",
        "import numpy as np\n",
        "import cv2"
      ],
      "execution_count": null,
      "outputs": []
    },
    {
      "cell_type": "code",
      "metadata": {
        "id": "dKxTR47BRom8"
      },
      "source": [
        "# 加载模型\n",
        "model = load_model('/content/drive/My Drive/Colab Notebooks/test.h5')\n",
        "model.summary()"
      ],
      "execution_count": null,
      "outputs": []
    },
    {
      "cell_type": "markdown",
      "metadata": {
        "id": "wuubiH9VRom8"
      },
      "source": [
        "{'BF': 0, 'BS': 1, 'CF': 2, 'CS': 3, 'background': 4, 'obstacle': 5}"
      ]
    },
    {
      "cell_type": "code",
      "metadata": {
        "id": "EJqaWHqsRom8"
      },
      "source": [
        "# 读取图片并预测\n",
        "img = cv2.imread(\"single_img_dataset/train/CF/0_05_52.png\")\n",
        "img = img/255.0\n",
        "img = np.resize(img,(1,128,128,3))\n",
        "result = model.predict_classes(img)[0]\n",
        "print(result)"
      ],
      "execution_count": null,
      "outputs": []
    },
    {
      "cell_type": "code",
      "metadata": {
        "id": "RYF9ylJ8Rom8"
      },
      "source": [
        ""
      ],
      "execution_count": null,
      "outputs": []
    }
  ]
}